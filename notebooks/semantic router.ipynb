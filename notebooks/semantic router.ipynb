{
 "cells": [
  {
   "cell_type": "code",
   "execution_count": 15,
   "id": "f4e20391-8669-49c0-bd37-a52ddcfbf3e6",
   "metadata": {},
   "outputs": [],
   "source": [
    "import os\n",
    "import sys\n",
    "import logging\n",
    "\n",
    "from dotenv import load_dotenv\n",
    "from llama_index.core.tools import ToolMetadata\n",
    "from llama_index.llms.bedrock_converse import BedrockConverse\n",
    "from llama_index.core.selectors import LLMSingleSelector"
   ]
  },
  {
   "cell_type": "code",
   "execution_count": 16,
   "id": "903b8d6b-d423-4d77-9d2f-9e9086d9d554",
   "metadata": {},
   "outputs": [
    {
     "data": {
      "text/plain": [
       "True"
      ]
     },
     "execution_count": 16,
     "metadata": {},
     "output_type": "execute_result"
    }
   ],
   "source": [
    "logger = logging.getLogger(__name__)\n",
    "logger.setLevel(logging.INFO)\n",
    "formatter = logging.Formatter(\"%(asctime)s - %(name)s - %(levelname)s - %(message)s\")\n",
    "handler = logging.StreamHandler(sys.stdout)\n",
    "handler.setFormatter(formatter)\n",
    "logger.addHandler(handler)\n",
    "\n",
    "load_dotenv()"
   ]
  },
  {
   "cell_type": "code",
   "execution_count": 19,
   "id": "8182bc15-097e-4839-8445-4204de4269c0",
   "metadata": {},
   "outputs": [],
   "source": [
    "MODEL_ID=os.environ.get(\"MODEL_ID\", \"anthropic.claude-3-haiku-20240307-v1:0\")\n",
    "AWS_PROFILE_NAME=os.environ.get(\"AWS_PROFILE_NAME\", None)"
   ]
  },
  {
   "cell_type": "code",
   "execution_count": 28,
   "id": "1aa04eb3-0644-49d9-9d38-555bef0cf6ae",
   "metadata": {},
   "outputs": [],
   "source": [
    "# choices as a list of strings\n",
    "choices = [\n",
    "    \"Useful for questions related to mobile game\",\n",
    "    \"Useful for questions related to other than game\",\n",
    "]"
   ]
  },
  {
   "cell_type": "code",
   "execution_count": 29,
   "id": "7c15007f-6c0c-45a6-a0f6-0cf64851d02a",
   "metadata": {},
   "outputs": [],
   "source": [
    "# setup llm\n",
    "llm = BedrockConverse(\n",
    "    model=MODEL_ID,\n",
    "    max_tokens=1024 * 2,\n",
    "    temperature=0.4,\n",
    "    profile_name=AWS_PROFILE_NAME,\n",
    ")"
   ]
  },
  {
   "cell_type": "code",
   "execution_count": 30,
   "id": "132b24ac-968e-4937-921f-a36d52df09f2",
   "metadata": {},
   "outputs": [],
   "source": [
    "selector = LLMSingleSelector.from_defaults(llm=llm)"
   ]
  },
  {
   "cell_type": "markdown",
   "id": "3be4dd0e-3125-45ad-b5fe-8622c61ab312",
   "metadata": {},
   "source": [
    "### Choice 0 - Game"
   ]
  },
  {
   "cell_type": "code",
   "execution_count": 32,
   "id": "bfc94c71-9f2f-4284-b000-68bff9f050be",
   "metadata": {},
   "outputs": [
    {
     "name": "stdout",
     "output_type": "stream",
     "text": [
      "[SingleSelection(index=0, reason=\"The question is about a mobile game, specifically Lineage W, and is asking for beginner's guide or strategy, which would be most relevant to the 'Useful for questions related to mobile game' choice.\")]\n",
      "CPU times: user 10.3 ms, sys: 3.43 ms, total: 13.7 ms\n",
      "Wall time: 1.13 s\n"
     ]
    }
   ],
   "source": [
    "%%time\n",
    "\n",
    "selector_result = selector.select(\n",
    "    choices, query=\"리니지W 시작한지 이틀 되었는데, 초보자 공략방법 좀 알려줘.\"\n",
    ")\n",
    "print(selector_result.selections)"
   ]
  },
  {
   "cell_type": "markdown",
   "id": "12343249-4b66-4798-9827-69d6d6f3b2fa",
   "metadata": {},
   "source": [
    "### Choice 1 - not game"
   ]
  },
  {
   "cell_type": "code",
   "execution_count": 33,
   "id": "20089144-28f1-4dd0-a5bf-206170ae955a",
   "metadata": {},
   "outputs": [
    {
     "name": "stdout",
     "output_type": "stream",
     "text": [
      "[SingleSelection(index=1, reason=\"The question is about getting advice for a beginner in table tennis, which is not a mobile game. Therefore, choice (2) 'Useful for questions related to other than game' is the most relevant.\")]\n",
      "CPU times: user 8.41 ms, sys: 2.76 ms, total: 11.2 ms\n",
      "Wall time: 1.19 s\n"
     ]
    }
   ],
   "source": [
    "%%time\n",
    "\n",
    "selector_result = selector.select(\n",
    "    choices, query=\"탁구 시작한지 이틀 되었는데, 초보자 공략방법 좀 알려줘.\"\n",
    ")\n",
    "print(selector_result.selections)"
   ]
  },
  {
   "cell_type": "code",
   "execution_count": null,
   "id": "62a5934a-b683-4348-bfbe-ba984b274830",
   "metadata": {},
   "outputs": [],
   "source": []
  }
 ],
 "metadata": {
  "kernelspec": {
   "display_name": "Python 3 (ipykernel)",
   "language": "python",
   "name": "python3"
  },
  "language_info": {
   "codemirror_mode": {
    "name": "ipython",
    "version": 3
   },
   "file_extension": ".py",
   "mimetype": "text/x-python",
   "name": "python",
   "nbconvert_exporter": "python",
   "pygments_lexer": "ipython3",
   "version": "3.10.14"
  }
 },
 "nbformat": 4,
 "nbformat_minor": 5
}
